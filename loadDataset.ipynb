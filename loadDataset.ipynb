{
  "nbformat": 4,
  "nbformat_minor": 0,
  "metadata": {
    "colab": {
      "provenance": [],
      "authorship_tag": "ABX9TyMNuAUBqA3PBAV8csEXNz99",
      "include_colab_link": true
    },
    "kernelspec": {
      "name": "python3",
      "display_name": "Python 3"
    },
    "language_info": {
      "name": "python"
    }
  },
  "cells": [
    {
      "cell_type": "markdown",
      "metadata": {
        "id": "view-in-github",
        "colab_type": "text"
      },
      "source": [
        "<a href=\"https://colab.research.google.com/github/eportah/Bird-of-Prey-Identifier/blob/main/loadDataset.ipynb\" target=\"_parent\"><img src=\"https://colab.research.google.com/assets/colab-badge.svg\" alt=\"Open In Colab\"/></a>"
      ]
    },
    {
      "cell_type": "code",
      "source": [
        "#setup dataset\n",
        "\n",
        "#mount the drive to retrieve dataset\n",
        "from google.colab import drive\n",
        "drive.mount('/content/drive')\n",
        "\n",
        "#import ZipFile to read dataset\n",
        "from zipfile import ZipFile\n",
        "\n",
        "#establish paths\n",
        "zipPath = \"/content/drive/MyDrive/MachineLearning/Datasets/birdsDatasets.zip\"\n",
        "extractPath = \"/content/extractPath\"\n",
        "\n",
        "#extract and open dataset in read mode using ZipFile\n",
        "with ZipFile(zipPath, 'r') as zipObj:\n",
        "   zipObj.extractall(extractPath)"
      ],
      "metadata": {
        "id": "Risny0ZVTNNB",
        "colab": {
          "base_uri": "https://localhost:8080/"
        },
        "outputId": "03f3962f-1389-470a-af19-8dbd053cf3f6"
      },
      "execution_count": 1,
      "outputs": [
        {
          "output_type": "stream",
          "name": "stdout",
          "text": [
            "Mounted at /content/drive\n"
          ]
        }
      ]
    },
    {
      "cell_type": "code",
      "source": [
        "#load dataset\n",
        "\n",
        "#cell output rundown\n",
        "\"\"\"\n",
        "- Dataset has 300 files (images) split into 2 classes.\n",
        "- Class names are 'birdsOfPrey' and 'notBirdsOfPrey'.\n",
        "- Images are batched into groups of 32, resized to 224x224 pixels, with 3 color channels RGB.\n",
        "- Labels are stored in 1-D array of length 32, one label per image in the batch.\n",
        "\"\"\"\n",
        "\n",
        "#store dataset path into variable and import tensorflow to load images from directory\n",
        "datasetDirectory = \"/content/extractPath/birdsDataset\"\n",
        "import tensorflow as tf\n",
        "\n",
        "#load dataset with function image_dataset_from_directory and establish both image size and batch size\n",
        "trainDataset = tf.keras.utils.image_dataset_from_directory(datasetDirectory, image_size=(224,224), batch_size=32)\n",
        "\n",
        "#preview what got loaded and what dataset looks like\n",
        "class_names = trainDataset.class_names\n",
        "print(\"Class names:\", class_names)\n",
        "for images, labels in trainDataset.take(1):\n",
        "  print(\"Image batch shape:\", images.shape)\n",
        "  print(\"Label batch shape:\", labels.shape)"
      ],
      "metadata": {
        "colab": {
          "base_uri": "https://localhost:8080/"
        },
        "id": "gNYqXl4QhUxX",
        "outputId": "94992da7-f34f-4fc0-8546-935f271987cb"
      },
      "execution_count": 2,
      "outputs": [
        {
          "output_type": "stream",
          "name": "stdout",
          "text": [
            "Found 300 files belonging to 2 classes.\n",
            "Class names: ['birdsOfPrey', 'notBirdsOfPrey']\n",
            "Image batch shape: (32, 224, 224, 3)\n",
            "Label batch shape: (32,)\n"
          ]
        }
      ]
    }
  ]
}