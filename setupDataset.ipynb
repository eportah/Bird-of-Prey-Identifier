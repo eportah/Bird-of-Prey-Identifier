{
  "nbformat": 4,
  "nbformat_minor": 0,
  "metadata": {
    "colab": {
      "provenance": [],
      "authorship_tag": "ABX9TyN+dc6WMcrun3o6NRdao65L",
      "include_colab_link": true
    },
    "kernelspec": {
      "name": "python3",
      "display_name": "Python 3"
    },
    "language_info": {
      "name": "python"
    }
  },
  "cells": [
    {
      "cell_type": "markdown",
      "metadata": {
        "id": "view-in-github",
        "colab_type": "text"
      },
      "source": [
        "<a href=\"https://colab.research.google.com/github/eportah/Bird-of-Prey-Identifier/blob/main/setupDataset.ipynb\" target=\"_parent\"><img src=\"https://colab.research.google.com/assets/colab-badge.svg\" alt=\"Open In Colab\"/></a>"
      ]
    },
    {
      "cell_type": "code",
      "source": [
        "#setup dataset\n",
        "\n",
        "#mount the drive to retrieve dataset\n",
        "from google.colab import drive\n",
        "drive.mount('/content/drive')\n",
        "\n",
        "#import ZipFile to read dataset\n",
        "from zipfile import ZipFile\n",
        "\n",
        "#establish paths\n",
        "zipPath = \"/content/drive/MyDrive/MachineLearning/Datasets/birdsDatasets.zip\"\n",
        "extractPath = \"/content/extractPath\"\n",
        "\n",
        "#extract and open dataset in read mode using ZipFile\n",
        "with ZipFile(zipPath, 'r') as zipObj:\n",
        "   zipObj.extractall(extractPath)"
      ],
      "metadata": {
        "id": "Risny0ZVTNNB",
        "colab": {
          "base_uri": "https://localhost:8080/"
        },
        "outputId": "03f3962f-1389-470a-af19-8dbd053cf3f6"
      },
      "execution_count": 1,
      "outputs": [
        {
          "output_type": "stream",
          "name": "stdout",
          "text": [
            "Mounted at /content/drive\n"
          ]
        }
      ]
    }
  ]
}